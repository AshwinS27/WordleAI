{
 "cells": [
  {
   "cell_type": "code",
   "execution_count": null,
   "metadata": {},
   "outputs": [],
   "source": [
    "#WORDLE clone\n",
    "#Variable lenth if wordle\n",
    "LENGTH = 5\n",
    "\n",
    "\n",
    "def get_guess_from_user():\n",
    "    valid = False\n",
    "    while not valid:\n",
    "        guess = input(\"Enter valid guess\")\n",
    "        if len(guess) == LENGTH: #Add check for valid word in vocabulary\n",
    "            return guess\n",
    "        else:\n",
    "            print(\"Your word needs to be 5 characters long. Please try again.\")\n",
    "\n",
    "def get_guess_from_ai():\n",
    "    return \"ai_word\"\n",
    "\n",
    "secret_word = \"magic\"\n",
    "chars_word = [*secret_word]\n",
    "solved = False\n",
    "num_guesses = 0\n",
    "\n",
    "while(not solved and num_guesses < 6):\n",
    "    guess = get_guess_from_ai()\n",
    "    result = \"\"\n",
    "\n",
    "    if guess == secret_word:\n",
    "        solved = True\n",
    "        print(\"You got it!\")\n",
    "\n",
    "    for i in range(len(secret_word)):\n",
    "        if guess[i] == secret_word[i]:\n",
    "            result += \"2\"\n",
    "        elif guess[i] in chars_word:\n",
    "            result += \"1\"\n",
    "        else:\n",
    "            result += \"0\"\n",
    "\n",
    "    print(guess)\n",
    "    print(result)\n",
    "    print(\"---------\")\n",
    "    num_guesses += 1\n",
    "if not solved:\n",
    "    print(f\"The word was {secret_word}. Your dumbass could not guess it.\")"
   ]
  }
 ],
 "metadata": {
  "kernelspec": {
   "display_name": "Python 3",
   "language": "python",
   "name": "python3"
  },
  "language_info": {
   "codemirror_mode": {
    "name": "ipython",
    "version": 3
   },
   "file_extension": ".py",
   "mimetype": "text/x-python",
   "name": "python",
   "nbconvert_exporter": "python",
   "pygments_lexer": "ipython3",
   "version": "3.10.13"
  }
 },
 "nbformat": 4,
 "nbformat_minor": 2
}
