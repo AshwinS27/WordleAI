{
 "cells": [
  {
   "cell_type": "code",
   "execution_count": 5,
   "metadata": {},
   "outputs": [
    {
     "name": "stdout",
     "output_type": "stream",
     "text": [
      "salet\n",
      "10100\n",
      "---------\n",
      "isles\n",
      "01101\n",
      "---------\n",
      "older\n",
      "02000\n",
      "---------\n",
      "least\n",
      "10020\n",
      "---------\n",
      "alist\n",
      "02020\n",
      "---------\n",
      "stern\n",
      "10000\n",
      "---------\n",
      "The word was flush. Your dumbass could not guess it.\n"
     ]
    }
   ],
   "source": [
    "#WORDLE clone\n",
    "#Variable length if wordle\n",
    "\n",
    "import json\n",
    "import random\n",
    "with open(\"wordle_list.json\", \"r\") as wordle_list:\n",
    "    word_list = json.load(wordle_list)\n",
    "word_length = 5\n",
    "max_guesses = 6\n",
    "\n",
    "def get_guess_from_user():\n",
    "    valid = False\n",
    "    while not valid:\n",
    "        guess = input(\"Enter valid guess\")\n",
    "        if len(guess) == word_length: #Add check for valid word in vocabulary\n",
    "            return guess\n",
    "        else:\n",
    "            print(\"Your word needs to be\", word_length, \" characters long. Please try again.\")\n",
    "\n",
    "def get_guess_from_ai():\n",
    "    return \"ai_word\"\n",
    "\n",
    "secret_word = random.choice(word_list)\n",
    "data_list = [letter for letter in secret_word]\n",
    "chars_word = [*secret_word]\n",
    "solved = False\n",
    "num_guesses = 0\n",
    "\n",
    "while(not solved and num_guesses < max_guesses):\n",
    "    guess = get_guess_from_user()\n",
    "    result = \"\"\n",
    "\n",
    "    if guess == secret_word:\n",
    "        solved = True\n",
    "        print(\"You got it!\")\n",
    "\n",
    "    for i in range(len(secret_word)):\n",
    "        if guess[i] == secret_word[i]:\n",
    "            result += \"2\"\n",
    "        elif guess[i] in chars_word:\n",
    "            result += \"1\"\n",
    "        else:\n",
    "            result += \"0\"\n",
    "\n",
    "    print(guess)\n",
    "    print(result)\n",
    "    print(\"---------\")\n",
    "    num_guesses += 1\n",
    "if not solved:\n",
    "    print(f\"The word was {secret_word}. Your dumbass could not guess it.\")"
   ]
  }
 ],
 "metadata": {
  "kernelspec": {
   "display_name": "Python 3",
   "language": "python",
   "name": "python3"
  },
  "language_info": {
   "codemirror_mode": {
    "name": "ipython",
    "version": 3
   },
   "file_extension": ".py",
   "mimetype": "text/x-python",
   "name": "python",
   "nbconvert_exporter": "python",
   "pygments_lexer": "ipython3",
   "version": "3.10.11"
  }
 },
 "nbformat": 4,
 "nbformat_minor": 2
}
